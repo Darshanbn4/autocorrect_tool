{
 "cells": [
  {
   "cell_type": "code",
   "execution_count": 1,
   "id": "172a0d3e",
   "metadata": {},
   "outputs": [
    {
     "name": "stdout",
     "output_type": "stream",
     "text": [
      "Requirement already satisfied: spellchecker in c:\\users\\admin\\anaconda3\\lib\\site-packages (0.4)\n",
      "Requirement already satisfied: setuptools in c:\\users\\admin\\anaconda3\\lib\\site-packages (from spellchecker) (67.8.0)\n",
      "Requirement already satisfied: inexactsearch in c:\\users\\admin\\anaconda3\\lib\\site-packages (from spellchecker) (1.0.2)\n",
      "Requirement already satisfied: soundex>=1.0 in c:\\users\\admin\\anaconda3\\lib\\site-packages (from inexactsearch->spellchecker) (1.1.3)\n",
      "Requirement already satisfied: silpa-common>=0.3 in c:\\users\\admin\\anaconda3\\lib\\site-packages (from inexactsearch->spellchecker) (0.3)\n",
      "Note: you may need to restart the kernel to use updated packages.\n"
     ]
    }
   ],
   "source": [
    "pip install spellchecker\n"
   ]
  },
  {
   "cell_type": "code",
   "execution_count": 3,
   "id": "a7fd5e01",
   "metadata": {},
   "outputs": [
    {
     "name": "stdout",
     "output_type": "stream",
     "text": [
      "Enter the words to correct: mngo\n",
      "Correct word is:\n",
      "mngo -> ['mango']\n"
     ]
    }
   ],
   "source": [
    "from spellchecker import SpellChecker\n",
    "\n",
    "def autocorrect(words):\n",
    "    spell = SpellChecker()\n",
    "    suggestions = spell.candidates(words)\n",
    "    closer_word = spell.correction(words)\n",
    "    return closer_word\n",
    "\n",
    "if __name__ == \"__main__\":\n",
    "    words_to_correction = input(\"Enter the words to correct: \").lower().split()\n",
    "\n",
    "    corrected_words = [autocorrect(word) for word in words_to_correction]\n",
    "\n",
    "    print(\"Correct word is:\")\n",
    "    for i, corrected_word in enumerate(corrected_words):\n",
    "        print(f\"{words_to_correction[i]} -> {corrected_words}\")\n"
   ]
  },
  {
   "cell_type": "code",
   "execution_count": null,
   "id": "5e319722",
   "metadata": {},
   "outputs": [],
   "source": []
  }
 ],
 "metadata": {
  "kernelspec": {
   "display_name": "Python 3 (ipykernel)",
   "language": "python",
   "name": "python3"
  },
  "language_info": {
   "codemirror_mode": {
    "name": "ipython",
    "version": 3
   },
   "file_extension": ".py",
   "mimetype": "text/x-python",
   "name": "python",
   "nbconvert_exporter": "python",
   "pygments_lexer": "ipython3",
   "version": "3.11.3"
  }
 },
 "nbformat": 4,
 "nbformat_minor": 5
}
